{
 "cells": [
  {
   "cell_type": "code",
   "execution_count": 1,
   "id": "ac662170-ec6d-4a24-a6dd-1ddcb0ddd523",
   "metadata": {
    "tags": []
   },
   "outputs": [
    {
     "name": "stdout",
     "output_type": "stream",
     "text": [
      "sagemaker.config INFO - Not applying SDK defaults from location: C:\\ProgramData\\sagemaker\\sagemaker\\config.yaml\n",
      "sagemaker.config INFO - Not applying SDK defaults from location: C:\\Users\\shiji\\AppData\\Local\\sagemaker\\sagemaker\\config.yaml\n",
      "Using bucket price-optimisation-sage\n"
     ]
    }
   ],
   "source": [
    "import sagemaker\n",
    "from sklearn.model_selection import train_test_split\n",
    "import boto3\n",
    "import pandas as pd\n",
    "sm_boto3 = boto3.client(\"sagemaker\")\n",
    "sess = sagemaker.Session()\n",
    "region = sess.boto_session.region_name\n",
    "bucket = 'price-bucket-cap' # Mention the created S3 bucket name here\n",
    "print(\"Using bucket \"+ bucket)"
   ]
  },
  {
   "cell_type": "code",
   "execution_count": 2,
   "id": "b05971cd-20ab-413f-a9cb-de2b8c24e79b",
   "metadata": {
    "tags": []
   },
   "outputs": [
    {
     "data": {
      "text/html": [
       "<div>\n",
       "<style scoped>\n",
       "    .dataframe tbody tr th:only-of-type {\n",
       "        vertical-align: middle;\n",
       "    }\n",
       "\n",
       "    .dataframe tbody tr th {\n",
       "        vertical-align: top;\n",
       "    }\n",
       "\n",
       "    .dataframe thead th {\n",
       "        text-align: right;\n",
       "    }\n",
       "</style>\n",
       "<table border=\"1\" class=\"dataframe\">\n",
       "  <thead>\n",
       "    <tr style=\"text-align: right;\">\n",
       "      <th></th>\n",
       "      <th>qty</th>\n",
       "      <th>total_price</th>\n",
       "      <th>freight_price</th>\n",
       "      <th>unit_price</th>\n",
       "      <th>product_name_lenght</th>\n",
       "      <th>product_description_lenght</th>\n",
       "      <th>product_photos_qty</th>\n",
       "      <th>product_weight_g</th>\n",
       "      <th>product_score</th>\n",
       "      <th>customers</th>\n",
       "      <th>...</th>\n",
       "      <th>fp1</th>\n",
       "      <th>comp_2</th>\n",
       "      <th>ps2</th>\n",
       "      <th>fp2</th>\n",
       "      <th>comp_3</th>\n",
       "      <th>ps3</th>\n",
       "      <th>fp3</th>\n",
       "      <th>lag_price</th>\n",
       "      <th>product_id_encoded</th>\n",
       "      <th>product_category_name_encoded</th>\n",
       "    </tr>\n",
       "  </thead>\n",
       "  <tbody>\n",
       "    <tr>\n",
       "      <th>0</th>\n",
       "      <td>1</td>\n",
       "      <td>45.95</td>\n",
       "      <td>15.100000</td>\n",
       "      <td>45.95</td>\n",
       "      <td>39</td>\n",
       "      <td>161</td>\n",
       "      <td>2</td>\n",
       "      <td>350</td>\n",
       "      <td>4.0</td>\n",
       "      <td>57</td>\n",
       "      <td>...</td>\n",
       "      <td>15.011897</td>\n",
       "      <td>215.000000</td>\n",
       "      <td>4.4</td>\n",
       "      <td>8.760000</td>\n",
       "      <td>45.95</td>\n",
       "      <td>4.0</td>\n",
       "      <td>15.100000</td>\n",
       "      <td>45.90</td>\n",
       "      <td>0</td>\n",
       "      <td>0</td>\n",
       "    </tr>\n",
       "    <tr>\n",
       "      <th>1</th>\n",
       "      <td>3</td>\n",
       "      <td>137.85</td>\n",
       "      <td>12.933333</td>\n",
       "      <td>45.95</td>\n",
       "      <td>39</td>\n",
       "      <td>161</td>\n",
       "      <td>2</td>\n",
       "      <td>350</td>\n",
       "      <td>4.0</td>\n",
       "      <td>61</td>\n",
       "      <td>...</td>\n",
       "      <td>14.769216</td>\n",
       "      <td>209.000000</td>\n",
       "      <td>4.4</td>\n",
       "      <td>21.322000</td>\n",
       "      <td>45.95</td>\n",
       "      <td>4.0</td>\n",
       "      <td>12.933333</td>\n",
       "      <td>45.95</td>\n",
       "      <td>0</td>\n",
       "      <td>0</td>\n",
       "    </tr>\n",
       "    <tr>\n",
       "      <th>2</th>\n",
       "      <td>6</td>\n",
       "      <td>275.70</td>\n",
       "      <td>14.840000</td>\n",
       "      <td>45.95</td>\n",
       "      <td>39</td>\n",
       "      <td>161</td>\n",
       "      <td>2</td>\n",
       "      <td>350</td>\n",
       "      <td>4.0</td>\n",
       "      <td>123</td>\n",
       "      <td>...</td>\n",
       "      <td>13.993833</td>\n",
       "      <td>205.000000</td>\n",
       "      <td>4.4</td>\n",
       "      <td>22.195932</td>\n",
       "      <td>45.95</td>\n",
       "      <td>4.0</td>\n",
       "      <td>14.840000</td>\n",
       "      <td>45.95</td>\n",
       "      <td>0</td>\n",
       "      <td>0</td>\n",
       "    </tr>\n",
       "    <tr>\n",
       "      <th>3</th>\n",
       "      <td>4</td>\n",
       "      <td>183.80</td>\n",
       "      <td>14.287500</td>\n",
       "      <td>45.95</td>\n",
       "      <td>39</td>\n",
       "      <td>161</td>\n",
       "      <td>2</td>\n",
       "      <td>350</td>\n",
       "      <td>4.0</td>\n",
       "      <td>90</td>\n",
       "      <td>...</td>\n",
       "      <td>14.656757</td>\n",
       "      <td>199.509804</td>\n",
       "      <td>4.4</td>\n",
       "      <td>19.412885</td>\n",
       "      <td>45.95</td>\n",
       "      <td>4.0</td>\n",
       "      <td>14.287500</td>\n",
       "      <td>45.95</td>\n",
       "      <td>0</td>\n",
       "      <td>0</td>\n",
       "    </tr>\n",
       "    <tr>\n",
       "      <th>4</th>\n",
       "      <td>2</td>\n",
       "      <td>91.90</td>\n",
       "      <td>15.100000</td>\n",
       "      <td>45.95</td>\n",
       "      <td>39</td>\n",
       "      <td>161</td>\n",
       "      <td>2</td>\n",
       "      <td>350</td>\n",
       "      <td>4.0</td>\n",
       "      <td>54</td>\n",
       "      <td>...</td>\n",
       "      <td>18.776522</td>\n",
       "      <td>163.398710</td>\n",
       "      <td>4.4</td>\n",
       "      <td>24.324687</td>\n",
       "      <td>45.95</td>\n",
       "      <td>4.0</td>\n",
       "      <td>15.100000</td>\n",
       "      <td>45.95</td>\n",
       "      <td>0</td>\n",
       "      <td>0</td>\n",
       "    </tr>\n",
       "  </tbody>\n",
       "</table>\n",
       "<p>5 rows × 29 columns</p>\n",
       "</div>"
      ],
      "text/plain": [
       "   qty  total_price  freight_price  unit_price  product_name_lenght  \\\n",
       "0    1        45.95      15.100000       45.95                   39   \n",
       "1    3       137.85      12.933333       45.95                   39   \n",
       "2    6       275.70      14.840000       45.95                   39   \n",
       "3    4       183.80      14.287500       45.95                   39   \n",
       "4    2        91.90      15.100000       45.95                   39   \n",
       "\n",
       "   product_description_lenght  product_photos_qty  product_weight_g  \\\n",
       "0                         161                   2               350   \n",
       "1                         161                   2               350   \n",
       "2                         161                   2               350   \n",
       "3                         161                   2               350   \n",
       "4                         161                   2               350   \n",
       "\n",
       "   product_score  customers  ...        fp1      comp_2  ps2        fp2  \\\n",
       "0            4.0         57  ...  15.011897  215.000000  4.4   8.760000   \n",
       "1            4.0         61  ...  14.769216  209.000000  4.4  21.322000   \n",
       "2            4.0        123  ...  13.993833  205.000000  4.4  22.195932   \n",
       "3            4.0         90  ...  14.656757  199.509804  4.4  19.412885   \n",
       "4            4.0         54  ...  18.776522  163.398710  4.4  24.324687   \n",
       "\n",
       "   comp_3  ps3        fp3  lag_price  product_id_encoded  \\\n",
       "0   45.95  4.0  15.100000      45.90                   0   \n",
       "1   45.95  4.0  12.933333      45.95                   0   \n",
       "2   45.95  4.0  14.840000      45.95                   0   \n",
       "3   45.95  4.0  14.287500      45.95                   0   \n",
       "4   45.95  4.0  15.100000      45.95                   0   \n",
       "\n",
       "   product_category_name_encoded  \n",
       "0                              0  \n",
       "1                              0  \n",
       "2                              0  \n",
       "3                              0  \n",
       "4                              0  \n",
       "\n",
       "[5 rows x 29 columns]"
      ]
     },
     "execution_count": 2,
     "metadata": {},
     "output_type": "execute_result"
    }
   ],
   "source": [
    "df = pd.read_csv(\"cleaned_retail_price.csv\")\n",
    "df . head()\n"
   ]
  },
  {
   "cell_type": "code",
   "execution_count": 3,
   "id": "78ba1898-03da-46e0-8be3-68b926b2d50e",
   "metadata": {
    "tags": []
   },
   "outputs": [
    {
     "data": {
      "text/plain": [
       "(676, 29)"
      ]
     },
     "execution_count": 3,
     "metadata": {},
     "output_type": "execute_result"
    }
   ],
   "source": [
    "df.shape"
   ]
  },
  {
   "cell_type": "code",
   "execution_count": 4,
   "id": "8e743e5e-710f-4e9a-8d94-29ea83f2f8ad",
   "metadata": {
    "tags": []
   },
   "outputs": [
    {
     "data": {
      "text/plain": [
       "qty                              0.0\n",
       "total_price                      0.0\n",
       "freight_price                    0.0\n",
       "unit_price                       0.0\n",
       "product_name_lenght              0.0\n",
       "product_description_lenght       0.0\n",
       "product_photos_qty               0.0\n",
       "product_weight_g                 0.0\n",
       "product_score                    0.0\n",
       "customers                        0.0\n",
       "weekday                          0.0\n",
       "weekend                          0.0\n",
       "holiday                          0.0\n",
       "month                            0.0\n",
       "year                             0.0\n",
       "s                                0.0\n",
       "volume                           0.0\n",
       "comp_1                           0.0\n",
       "ps1                              0.0\n",
       "fp1                              0.0\n",
       "comp_2                           0.0\n",
       "ps2                              0.0\n",
       "fp2                              0.0\n",
       "comp_3                           0.0\n",
       "ps3                              0.0\n",
       "fp3                              0.0\n",
       "lag_price                        0.0\n",
       "product_id_encoded               0.0\n",
       "product_category_name_encoded    0.0\n",
       "dtype: float64"
      ]
     },
     "execution_count": 4,
     "metadata": {},
     "output_type": "execute_result"
    }
   ],
   "source": [
    "df . isnull().mean() * 100"
   ]
  },
  {
   "cell_type": "code",
   "execution_count": 131,
   "id": "df3c8fec",
   "metadata": {},
   "outputs": [],
   "source": [
    "\n"
   ]
  },
  {
   "cell_type": "code",
   "execution_count": 5,
   "id": "59c26605-6b45-41c1-b899-56c225eabfde",
   "metadata": {
    "tags": []
   },
   "outputs": [
    {
     "data": {
      "text/plain": [
       "['qty',\n",
       " 'total_price',\n",
       " 'freight_price',\n",
       " 'unit_price',\n",
       " 'product_name_lenght',\n",
       " 'product_description_lenght',\n",
       " 'product_photos_qty',\n",
       " 'product_weight_g',\n",
       " 'product_score',\n",
       " 'customers',\n",
       " 'weekday',\n",
       " 'weekend',\n",
       " 'holiday',\n",
       " 'month',\n",
       " 'year',\n",
       " 's',\n",
       " 'volume',\n",
       " 'comp_1',\n",
       " 'ps1',\n",
       " 'fp1',\n",
       " 'comp_2',\n",
       " 'ps2',\n",
       " 'fp2',\n",
       " 'comp_3',\n",
       " 'ps3',\n",
       " 'fp3',\n",
       " 'lag_price',\n",
       " 'product_id_encoded',\n",
       " 'product_category_name_encoded']"
      ]
     },
     "execution_count": 5,
     "metadata": {},
     "output_type": "execute_result"
    }
   ],
   "source": [
    "features = list(df.columns)\n",
    "features"
   ]
  },
  {
   "cell_type": "code",
   "execution_count": 6,
   "id": "24be5266-f9cf-499e-9641-5f2dec378108",
   "metadata": {
    "tags": []
   },
   "outputs": [
    {
     "data": {
      "text/plain": [
       "'lag_price'"
      ]
     },
     "execution_count": 6,
     "metadata": {},
     "output_type": "execute_result"
    }
   ],
   "source": [
    "label = features.pop(-3)\n",
    "label"
   ]
  },
  {
   "cell_type": "code",
   "execution_count": 7,
   "id": "21d2ec14-abda-4913-8801-de95879b42a8",
   "metadata": {},
   "outputs": [],
   "source": [
    "x = df[features]\n",
    "y = df[label]"
   ]
  },
  {
   "cell_type": "code",
   "execution_count": 8,
   "id": "0e1b8fed-cf11-4143-88b0-6f106125d375",
   "metadata": {},
   "outputs": [
    {
     "data": {
      "text/html": [
       "<div>\n",
       "<style scoped>\n",
       "    .dataframe tbody tr th:only-of-type {\n",
       "        vertical-align: middle;\n",
       "    }\n",
       "\n",
       "    .dataframe tbody tr th {\n",
       "        vertical-align: top;\n",
       "    }\n",
       "\n",
       "    .dataframe thead th {\n",
       "        text-align: right;\n",
       "    }\n",
       "</style>\n",
       "<table border=\"1\" class=\"dataframe\">\n",
       "  <thead>\n",
       "    <tr style=\"text-align: right;\">\n",
       "      <th></th>\n",
       "      <th>qty</th>\n",
       "      <th>total_price</th>\n",
       "      <th>freight_price</th>\n",
       "      <th>unit_price</th>\n",
       "      <th>product_name_lenght</th>\n",
       "      <th>product_description_lenght</th>\n",
       "      <th>product_photos_qty</th>\n",
       "      <th>product_weight_g</th>\n",
       "      <th>product_score</th>\n",
       "      <th>customers</th>\n",
       "      <th>...</th>\n",
       "      <th>ps1</th>\n",
       "      <th>fp1</th>\n",
       "      <th>comp_2</th>\n",
       "      <th>ps2</th>\n",
       "      <th>fp2</th>\n",
       "      <th>comp_3</th>\n",
       "      <th>ps3</th>\n",
       "      <th>fp3</th>\n",
       "      <th>product_id_encoded</th>\n",
       "      <th>product_category_name_encoded</th>\n",
       "    </tr>\n",
       "  </thead>\n",
       "  <tbody>\n",
       "    <tr>\n",
       "      <th>0</th>\n",
       "      <td>1</td>\n",
       "      <td>45.95</td>\n",
       "      <td>15.100000</td>\n",
       "      <td>45.95</td>\n",
       "      <td>39</td>\n",
       "      <td>161</td>\n",
       "      <td>2</td>\n",
       "      <td>350</td>\n",
       "      <td>4.0</td>\n",
       "      <td>57</td>\n",
       "      <td>...</td>\n",
       "      <td>3.9</td>\n",
       "      <td>15.011897</td>\n",
       "      <td>215.000000</td>\n",
       "      <td>4.4</td>\n",
       "      <td>8.760000</td>\n",
       "      <td>45.95</td>\n",
       "      <td>4.0</td>\n",
       "      <td>15.100000</td>\n",
       "      <td>0</td>\n",
       "      <td>0</td>\n",
       "    </tr>\n",
       "    <tr>\n",
       "      <th>1</th>\n",
       "      <td>3</td>\n",
       "      <td>137.85</td>\n",
       "      <td>12.933333</td>\n",
       "      <td>45.95</td>\n",
       "      <td>39</td>\n",
       "      <td>161</td>\n",
       "      <td>2</td>\n",
       "      <td>350</td>\n",
       "      <td>4.0</td>\n",
       "      <td>61</td>\n",
       "      <td>...</td>\n",
       "      <td>3.9</td>\n",
       "      <td>14.769216</td>\n",
       "      <td>209.000000</td>\n",
       "      <td>4.4</td>\n",
       "      <td>21.322000</td>\n",
       "      <td>45.95</td>\n",
       "      <td>4.0</td>\n",
       "      <td>12.933333</td>\n",
       "      <td>0</td>\n",
       "      <td>0</td>\n",
       "    </tr>\n",
       "    <tr>\n",
       "      <th>2</th>\n",
       "      <td>6</td>\n",
       "      <td>275.70</td>\n",
       "      <td>14.840000</td>\n",
       "      <td>45.95</td>\n",
       "      <td>39</td>\n",
       "      <td>161</td>\n",
       "      <td>2</td>\n",
       "      <td>350</td>\n",
       "      <td>4.0</td>\n",
       "      <td>123</td>\n",
       "      <td>...</td>\n",
       "      <td>3.9</td>\n",
       "      <td>13.993833</td>\n",
       "      <td>205.000000</td>\n",
       "      <td>4.4</td>\n",
       "      <td>22.195932</td>\n",
       "      <td>45.95</td>\n",
       "      <td>4.0</td>\n",
       "      <td>14.840000</td>\n",
       "      <td>0</td>\n",
       "      <td>0</td>\n",
       "    </tr>\n",
       "    <tr>\n",
       "      <th>3</th>\n",
       "      <td>4</td>\n",
       "      <td>183.80</td>\n",
       "      <td>14.287500</td>\n",
       "      <td>45.95</td>\n",
       "      <td>39</td>\n",
       "      <td>161</td>\n",
       "      <td>2</td>\n",
       "      <td>350</td>\n",
       "      <td>4.0</td>\n",
       "      <td>90</td>\n",
       "      <td>...</td>\n",
       "      <td>3.9</td>\n",
       "      <td>14.656757</td>\n",
       "      <td>199.509804</td>\n",
       "      <td>4.4</td>\n",
       "      <td>19.412885</td>\n",
       "      <td>45.95</td>\n",
       "      <td>4.0</td>\n",
       "      <td>14.287500</td>\n",
       "      <td>0</td>\n",
       "      <td>0</td>\n",
       "    </tr>\n",
       "    <tr>\n",
       "      <th>4</th>\n",
       "      <td>2</td>\n",
       "      <td>91.90</td>\n",
       "      <td>15.100000</td>\n",
       "      <td>45.95</td>\n",
       "      <td>39</td>\n",
       "      <td>161</td>\n",
       "      <td>2</td>\n",
       "      <td>350</td>\n",
       "      <td>4.0</td>\n",
       "      <td>54</td>\n",
       "      <td>...</td>\n",
       "      <td>3.9</td>\n",
       "      <td>18.776522</td>\n",
       "      <td>163.398710</td>\n",
       "      <td>4.4</td>\n",
       "      <td>24.324687</td>\n",
       "      <td>45.95</td>\n",
       "      <td>4.0</td>\n",
       "      <td>15.100000</td>\n",
       "      <td>0</td>\n",
       "      <td>0</td>\n",
       "    </tr>\n",
       "  </tbody>\n",
       "</table>\n",
       "<p>5 rows × 28 columns</p>\n",
       "</div>"
      ],
      "text/plain": [
       "   qty  total_price  freight_price  unit_price  product_name_lenght  \\\n",
       "0    1        45.95      15.100000       45.95                   39   \n",
       "1    3       137.85      12.933333       45.95                   39   \n",
       "2    6       275.70      14.840000       45.95                   39   \n",
       "3    4       183.80      14.287500       45.95                   39   \n",
       "4    2        91.90      15.100000       45.95                   39   \n",
       "\n",
       "   product_description_lenght  product_photos_qty  product_weight_g  \\\n",
       "0                         161                   2               350   \n",
       "1                         161                   2               350   \n",
       "2                         161                   2               350   \n",
       "3                         161                   2               350   \n",
       "4                         161                   2               350   \n",
       "\n",
       "   product_score  customers  ...  ps1        fp1      comp_2  ps2        fp2  \\\n",
       "0            4.0         57  ...  3.9  15.011897  215.000000  4.4   8.760000   \n",
       "1            4.0         61  ...  3.9  14.769216  209.000000  4.4  21.322000   \n",
       "2            4.0        123  ...  3.9  13.993833  205.000000  4.4  22.195932   \n",
       "3            4.0         90  ...  3.9  14.656757  199.509804  4.4  19.412885   \n",
       "4            4.0         54  ...  3.9  18.776522  163.398710  4.4  24.324687   \n",
       "\n",
       "   comp_3  ps3        fp3  product_id_encoded  product_category_name_encoded  \n",
       "0   45.95  4.0  15.100000                   0                              0  \n",
       "1   45.95  4.0  12.933333                   0                              0  \n",
       "2   45.95  4.0  14.840000                   0                              0  \n",
       "3   45.95  4.0  14.287500                   0                              0  \n",
       "4   45.95  4.0  15.100000                   0                              0  \n",
       "\n",
       "[5 rows x 28 columns]"
      ]
     },
     "execution_count": 8,
     "metadata": {},
     "output_type": "execute_result"
    }
   ],
   "source": [
    "x . head()"
   ]
  },
  {
   "cell_type": "code",
   "execution_count": 9,
   "id": "d43caaa4",
   "metadata": {},
   "outputs": [
    {
     "data": {
      "text/plain": [
       "0    45.90\n",
       "1    45.95\n",
       "2    45.95\n",
       "3    45.95\n",
       "4    45.95\n",
       "Name: lag_price, dtype: float64"
      ]
     },
     "execution_count": 9,
     "metadata": {},
     "output_type": "execute_result"
    }
   ],
   "source": [
    "y . head()"
   ]
  },
  {
   "cell_type": "code",
   "execution_count": 10,
   "id": "b79aff11",
   "metadata": {},
   "outputs": [],
   "source": [
    "X_train, X_test, y_train, y_test = train_test_split(x,y, test_size=0.15, random_state=0)\n"
   ]
  },
  {
   "cell_type": "code",
   "execution_count": 11,
   "id": "9eec1219",
   "metadata": {},
   "outputs": [
    {
     "name": "stdout",
     "output_type": "stream",
     "text": [
      "(574, 28)\n",
      "(102, 28)\n",
      "(574,)\n",
      "(102,)\n"
     ]
    }
   ],
   "source": [
    "print(X_train.shape)\n",
    "print(X_test.shape)\n",
    "print(y_train.shape)\n",
    "print(y_test.shape)"
   ]
  },
  {
   "cell_type": "code",
   "execution_count": 12,
   "id": "0d126efd",
   "metadata": {},
   "outputs": [],
   "source": [
    "trainX = pd.DataFrame(X_train) \n",
    "trainX[label] = y_train\n",
    "\n",
    "testX = pd.DataFrame(X_test) \n",
    "testX[label] = y_test"
   ]
  },
  {
   "cell_type": "code",
   "execution_count": 13,
   "id": "091cd95c",
   "metadata": {},
   "outputs": [],
   "source": [
    "\n",
    "trainX.to_csv(\"train-V-1.csv\",index = False) \n",
    "testX.to_csv(\"test-V-1.csv\", index = False)"
   ]
  },
  {
   "cell_type": "code",
   "execution_count": 14,
   "id": "76aba8dd",
   "metadata": {},
   "outputs": [],
   "source": [
    "\n",
    "# send data to S3. SageMaker will take training data from s3\n",
    "sk_prefix = \"sagemaker/price-optimisation/sklearncontainer\" \n",
    "trainpath = sess.upload_data(\n",
    "            path=\"train-V-1.csv\", bucket=bucket, key_prefix=sk_prefix\n",
    ")\n",
    "testpath = sess.upload_data(\n",
    "            path=\"test-V-1.csv\", bucket=bucket, key_prefix=sk_prefix\n",
    ")"
   ]
  },
  {
   "cell_type": "code",
   "execution_count": 15,
   "id": "23027829",
   "metadata": {},
   "outputs": [
    {
     "name": "stdout",
     "output_type": "stream",
     "text": [
      "Overwriting script.py\n"
     ]
    }
   ],
   "source": [
    "%%writefile script.py\n",
    "\n",
    "from sklearn.ensemble import RandomForestRegressor\n",
    "from sklearn.metrics import mean_squared_error, mean_absolute_error, r2_score\n",
    "import numpy as np  # for np.sqrt\n",
    "import sklearn\n",
    "import joblib\n",
    "import argparse\n",
    "import os\n",
    "import pandas as pd\n",
    "\n",
    "\n",
    "#from sklearn.ensemble import RandomForestRegressor\n",
    "#from sklearn.metrics import mean_squared_error\n",
    "#import sklearn\n",
    "#import joblib\n",
    "#import argparse\n",
    "#import os\n",
    "#import pandas as pd\n",
    "    \n",
    "def model_fn(model_dir):\n",
    "    clf = joblib.load(os.path.join(model_dir, \"model.joblib\"))\n",
    "    return clf\n",
    "    \n",
    "if __name__ == \"__main__\":\n",
    "\n",
    "    print(\"[INFO] Extracting arguments\")\n",
    "    parser = argparse.ArgumentParser()\n",
    "\n",
    "    # Hyperparameters sent by the client are passed as command-line arguments to the script.\n",
    "    parser.add_argument(\"--n_estimators\", type=int, default=100)\n",
    "    parser.add_argument(\"--random_state\", type=int, default=0)\n",
    "\n",
    "    # Data, model, and output directories\n",
    "    parser.add_argument(\"--model-dir\", type=str, default=os.environ.get(\"SM_MODEL_DIR\"))\n",
    "    parser.add_argument(\"--train\", type=str, default=os.environ.get(\"SM_CHANNEL_TRAIN\"))\n",
    "    parser.add_argument(\"--test\", type=str, default=os.environ.get(\"SM_CHANNEL_TEST\"))\n",
    "    parser.add_argument(\"--train-file\", type=str, default=\"train-V-1.csv\")\n",
    "    parser.add_argument(\"--test-file\", type=str, default=\"test-V-1.csv\")\n",
    "\n",
    "    args, _ = parser.parse_known_args()\n",
    "    \n",
    "    print(\"SKLearn Version: \", sklearn.__version__)\n",
    "    print(\"Joblib Version: \", joblib.__version__)\n",
    "\n",
    "    print(\"[INFO] Reading data\")\n",
    "    print()\n",
    "    train_df = pd.read_csv(os.path.join(args.train, args.train_file))\n",
    "    test_df = pd.read_csv(os.path.join(args.test, args.test_file))\n",
    "    \n",
    "    features = list(train_df.columns)\n",
    "    label = features.pop(-3)  # Assuming the last column is the label for regression\n",
    "    \n",
    "    print(\"Building training and testing datasets\")\n",
    "    print()\n",
    "    X_train = train_df[features]\n",
    "    X_test = test_df[features]\n",
    "    y_train = train_df[label]\n",
    "    y_test = test_df[label]\n",
    "\n",
    "    print('Column order: ')\n",
    "    print(features)\n",
    "    print()\n",
    "    \n",
    "    print(\"Label column is: \", label)\n",
    "    print()\n",
    "    \n",
    "    print(\"Data Shape: \")\n",
    "    print()\n",
    "    print(\"---- SHAPE OF TRAINING DATA (85%) ----\")\n",
    "    print(X_train.shape)\n",
    "    print(y_train.shape)\n",
    "    print()\n",
    "    print(\"---- SHAPE OF TESTING DATA (15%) ----\")\n",
    "    print(X_test.shape)\n",
    "    print(y_test.shape)\n",
    "    print()\n",
    "    \n",
    "    print(\"Training RandomForest Model.....\")\n",
    "    model = RandomForestRegressor(n_estimators=args.n_estimators, random_state=args.random_state, verbose=3, n_jobs=-1)\n",
    "    model.fit(X_train, y_train)\n",
    "    print(\"Model training complete.\")\n",
    "    print()\n",
    "\n",
    "    model_path = os.path.join(args.model_dir, \"model.joblib\")\n",
    "    joblib.dump(model, model_path)\n",
    "    print(\"Model persisted at \" + model_path)\n",
    "    print()\n",
    "\n",
    "    # Evaluate the model using regression metrics\n",
    "    y_pred_test = model.predict(X_test)\n",
    "    test_mse = mean_squared_error(y_test, y_pred_test)\n",
    "    print('Test Mean Squared Error:', test_mse)\n",
    "\n",
    "    test_mae = mean_absolute_error(y_test, y_pred_test)\n",
    "    test_rmse = np.sqrt(test_mse) # RMSE is just the square root of MSE\n",
    "    test_r2 = r2_score(y_test, y_pred_test)\n",
    "    \n",
    "    print('Evaluation Metrics for Testing Data:')\n",
    "    print('------------------------------------')\n",
    "    print(f'Test Mean Squared Error (MSE): {test_mse:.4f}')\n",
    "    print(f'Test Mean Absolute Error (MAE): {test_mae:.4f}')\n",
    "    print(f'Test Root Mean Squared Error (RMSE): {test_rmse:.4f}')\n",
    "    print(f'Test R^2 Score: {test_r2:.4f}')\n"
   ]
  },
  {
   "cell_type": "code",
   "execution_count": 16,
   "id": "299037b7",
   "metadata": {},
   "outputs": [],
   "source": [
    "from sagemaker.sklearn.estimator import SKLearn\n",
    "\n",
    "FRAMEWORK_VERSION = \"0.23-1\"\n",
    "\n",
    "sklearn_estimator = SKLearn(\n",
    "    entry_point=\"script.py\",\n",
    "    role=\"arn:aws:iam::975050105170:role/service-role/AmazonSageMaker-ExecutionRole-20240130T131692\",\n",
    "    instance_count=1,\n",
    "    instance_type=\"ml.m5.large\",\n",
    "    framework_version=FRAMEWORK_VERSION,\n",
    "    base_job_name=\"RF-custom-sklearn\",\n",
    "    hyperparameters={\n",
    "        \"n_estimators\": 100,\n",
    "        \"random_state\": 0,\n",
    "    },\n",
    "    use_spot_instances = True,\n",
    "    max_wait = 7200,\n",
    "    max_run = 3600\n",
    ")"
   ]
  },
  {
   "cell_type": "code",
   "execution_count": 17,
   "id": "05cd2f25",
   "metadata": {},
   "outputs": [
    {
     "name": "stderr",
     "output_type": "stream",
     "text": [
      "INFO:sagemaker:Creating training-job with name: RF-custom-sklearn-2024-04-09-13-51-58-206\n"
     ]
    },
    {
     "name": "stdout",
     "output_type": "stream",
     "text": [
      "2024-04-09 13:51:59 Starting - Starting the training job...\n",
      "2024-04-09 13:52:15 Starting - Preparing the instances for training...\n",
      "2024-04-09 13:52:50 Downloading - Downloading input data...\n",
      "2024-04-09 13:53:16 Downloading - Downloading the training image...\n",
      "2024-04-09 13:53:56 Training - Training image download completed. Training in progress..2024-04-09 13:54:00,186 sagemaker-containers INFO     Imported framework sagemaker_sklearn_container.training\n",
      "2024-04-09 13:54:00,190 sagemaker-training-toolkit INFO     No GPUs detected (normal if no gpus installed)\n",
      "2024-04-09 13:54:00,232 sagemaker_sklearn_container.training INFO     Invoking user training script.\n",
      "2024-04-09 13:54:00,433 sagemaker-training-toolkit INFO     No GPUs detected (normal if no gpus installed)\n",
      "2024-04-09 13:54:00,445 sagemaker-training-toolkit INFO     No GPUs detected (normal if no gpus installed)\n",
      "2024-04-09 13:54:00,457 sagemaker-training-toolkit INFO     No GPUs detected (normal if no gpus installed)\n",
      "2024-04-09 13:54:00,466 sagemaker-training-toolkit INFO     Invoking user script\n",
      "Training Env:\n",
      "{\n",
      "    \"additional_framework_parameters\": {},\n",
      "    \"channel_input_dirs\": {\n",
      "        \"test\": \"/opt/ml/input/data/test\",\n",
      "        \"train\": \"/opt/ml/input/data/train\"\n",
      "    },\n",
      "    \"current_host\": \"algo-1\",\n",
      "    \"framework_module\": \"sagemaker_sklearn_container.training:main\",\n",
      "    \"hosts\": [\n",
      "        \"algo-1\"\n",
      "    ],\n",
      "    \"hyperparameters\": {\n",
      "        \"n_estimators\": 100,\n",
      "        \"random_state\": 0\n",
      "    },\n",
      "    \"input_config_dir\": \"/opt/ml/input/config\",\n",
      "    \"input_data_config\": {\n",
      "        \"test\": {\n",
      "            \"TrainingInputMode\": \"File\",\n",
      "            \"S3DistributionType\": \"FullyReplicated\",\n",
      "            \"RecordWrapperType\": \"None\"\n",
      "        },\n",
      "        \"train\": {\n",
      "            \"TrainingInputMode\": \"File\",\n",
      "            \"S3DistributionType\": \"FullyReplicated\",\n",
      "            \"RecordWrapperType\": \"None\"\n",
      "        }\n",
      "    },\n",
      "    \"input_dir\": \"/opt/ml/input\",\n",
      "    \"is_master\": true,\n",
      "    \"job_name\": \"RF-custom-sklearn-2024-04-09-13-51-58-206\",\n",
      "    \"log_level\": 20,\n",
      "    \"master_hostname\": \"algo-1\",\n",
      "    \"model_dir\": \"/opt/ml/model\",\n",
      "    \"module_dir\": \"s3://sagemaker-us-east-1-975050105170/RF-custom-sklearn-2024-04-09-13-51-58-206/source/sourcedir.tar.gz\",\n",
      "    \"module_name\": \"script\",\n",
      "    \"network_interface_name\": \"eth0\",\n",
      "    \"num_cpus\": 2,\n",
      "    \"num_gpus\": 0,\n",
      "    \"output_data_dir\": \"/opt/ml/output/data\",\n",
      "    \"output_dir\": \"/opt/ml/output\",\n",
      "    \"output_intermediate_dir\": \"/opt/ml/output/intermediate\",\n",
      "    \"resource_config\": {\n",
      "        \"current_host\": \"algo-1\",\n",
      "        \"current_instance_type\": \"ml.m5.large\",\n",
      "        \"current_group_name\": \"homogeneousCluster\",\n",
      "        \"hosts\": [\n",
      "            \"algo-1\"\n",
      "        ],\n",
      "        \"instance_groups\": [\n",
      "            {\n",
      "                \"instance_group_name\": \"homogeneousCluster\",\n",
      "                \"instance_type\": \"ml.m5.large\",\n",
      "                \"hosts\": [\n",
      "                    \"algo-1\"\n",
      "                ]\n",
      "            }\n",
      "        ],\n",
      "        \"network_interface_name\": \"eth0\"\n",
      "    },\n",
      "    \"user_entry_point\": \"script.py\"\n",
      "}\n",
      "Environment variables:\n",
      "SM_HOSTS=[\"algo-1\"]\n",
      "SM_NETWORK_INTERFACE_NAME=eth0\n",
      "SM_HPS={\"n_estimators\":100,\"random_state\":0}\n",
      "SM_USER_ENTRY_POINT=script.py\n",
      "SM_FRAMEWORK_PARAMS={}\n",
      "SM_RESOURCE_CONFIG={\"current_group_name\":\"homogeneousCluster\",\"current_host\":\"algo-1\",\"current_instance_type\":\"ml.m5.large\",\"hosts\":[\"algo-1\"],\"instance_groups\":[{\"hosts\":[\"algo-1\"],\"instance_group_name\":\"homogeneousCluster\",\"instance_type\":\"ml.m5.large\"}],\"network_interface_name\":\"eth0\"}\n",
      "SM_INPUT_DATA_CONFIG={\"test\":{\"RecordWrapperType\":\"None\",\"S3DistributionType\":\"FullyReplicated\",\"TrainingInputMode\":\"File\"},\"train\":{\"RecordWrapperType\":\"None\",\"S3DistributionType\":\"FullyReplicated\",\"TrainingInputMode\":\"File\"}}\n",
      "SM_OUTPUT_DATA_DIR=/opt/ml/output/data\n",
      "SM_CHANNELS=[\"test\",\"train\"]\n",
      "SM_CURRENT_HOST=algo-1\n",
      "SM_MODULE_NAME=script\n",
      "SM_LOG_LEVEL=20\n",
      "SM_FRAMEWORK_MODULE=sagemaker_sklearn_container.training:main\n",
      "SM_INPUT_DIR=/opt/ml/input\n",
      "SM_INPUT_CONFIG_DIR=/opt/ml/input/config\n",
      "SM_OUTPUT_DIR=/opt/ml/output\n",
      "SM_NUM_CPUS=2\n",
      "SM_NUM_GPUS=0\n",
      "SM_MODEL_DIR=/opt/ml/model\n",
      "SM_MODULE_DIR=s3://sagemaker-us-east-1-975050105170/RF-custom-sklearn-2024-04-09-13-51-58-206/source/sourcedir.tar.gz\n",
      "SM_TRAINING_ENV={\"additional_framework_parameters\":{},\"channel_input_dirs\":{\"test\":\"/opt/ml/input/data/test\",\"train\":\"/opt/ml/input/data/train\"},\"current_host\":\"algo-1\",\"framework_module\":\"sagemaker_sklearn_container.training:main\",\"hosts\":[\"algo-1\"],\"hyperparameters\":{\"n_estimators\":100,\"random_state\":0},\"input_config_dir\":\"/opt/ml/input/config\",\"input_data_config\":{\"test\":{\"RecordWrapperType\":\"None\",\"S3DistributionType\":\"FullyReplicated\",\"TrainingInputMode\":\"File\"},\"train\":{\"RecordWrapperType\":\"None\",\"S3DistributionType\":\"FullyReplicated\",\"TrainingInputMode\":\"File\"}},\"input_dir\":\"/opt/ml/input\",\"is_master\":true,\"job_name\":\"RF-custom-sklearn-2024-04-09-13-51-58-206\",\"log_level\":20,\"master_hostname\":\"algo-1\",\"model_dir\":\"/opt/ml/model\",\"module_dir\":\"s3://sagemaker-us-east-1-975050105170/RF-custom-sklearn-2024-04-09-13-51-58-206/source/sourcedir.tar.gz\",\"module_name\":\"script\",\"network_interface_name\":\"eth0\",\"num_cpus\":2,\"num_gpus\":0,\"output_data_dir\":\"/opt/ml/output/data\",\"output_dir\":\"/opt/ml/output\",\"output_intermediate_dir\":\"/opt/ml/output/intermediate\",\"resource_config\":{\"current_group_name\":\"homogeneousCluster\",\"current_host\":\"algo-1\",\"current_instance_type\":\"ml.m5.large\",\"hosts\":[\"algo-1\"],\"instance_groups\":[{\"hosts\":[\"algo-1\"],\"instance_group_name\":\"homogeneousCluster\",\"instance_type\":\"ml.m5.large\"}],\"network_interface_name\":\"eth0\"},\"user_entry_point\":\"script.py\"}\n",
      "SM_USER_ARGS=[\"--n_estimators\",\"100\",\"--random_state\",\"0\"]\n",
      "SM_OUTPUT_INTERMEDIATE_DIR=/opt/ml/output/intermediate\n",
      "SM_CHANNEL_TEST=/opt/ml/input/data/test\n",
      "SM_CHANNEL_TRAIN=/opt/ml/input/data/train\n",
      "SM_HP_N_ESTIMATORS=100\n",
      "SM_HP_RANDOM_STATE=0\n",
      "PYTHONPATH=/opt/ml/code:/miniconda3/bin:/miniconda3/lib/python37.zip:/miniconda3/lib/python3.7:/miniconda3/lib/python3.7/lib-dynload:/miniconda3/lib/python3.7/site-packages\n",
      "Invoking script with the following command:\n",
      "/miniconda3/bin/python script.py --n_estimators 100 --random_state 0\n",
      "[INFO] Extracting arguments\n",
      "SKLearn Version:  0.23.2\n",
      "Joblib Version:  1.2.0\n",
      "[INFO] Reading data\n",
      "Building training and testing datasets\n",
      "Column order: \n",
      "['qty', 'total_price', 'freight_price', 'unit_price', 'product_name_lenght', 'product_description_lenght', 'product_photos_qty', 'product_weight_g', 'product_score', 'customers', 'weekday', 'weekend', 'holiday', 'month', 'year', 's', 'volume', 'comp_1', 'ps1', 'fp1', 'comp_2', 'ps2', 'fp2', 'comp_3', 'ps3', 'fp3', 'product_category_name_encoded', 'lag_price']\n",
      "Label column is:  product_id_encoded\n",
      "Data Shape: \n",
      "---- SHAPE OF TRAINING DATA (85%) ----\n",
      "(574, 28)\n",
      "(574,)\n",
      "---- SHAPE OF TESTING DATA (15%) ----\n",
      "(102, 28)\n",
      "(102,)\n",
      "Training RandomForest Model.....\n",
      "[Parallel(n_jobs=-1)]: Using backend ThreadingBackend with 2 concurrent workers.\n",
      "building tree 1 of 100\n",
      "building tree 2 of 100\n",
      "building tree 3 of 100\n",
      "building tree 4 of 100\n",
      "building tree 5 of 100\n",
      "building tree 6 of 100\n",
      "building tree 7 of 100\n",
      "building tree 8 of 100\n",
      "building tree 9 of 100building tree 10 of 100\n",
      "building tree 11 of 100building tree 12 of 100\n",
      "building tree 14 of 100\n",
      "building tree 13 of 100\n",
      "building tree 16 of 100\n",
      "building tree 15 of 100\n",
      "building tree 17 of 100\n",
      "building tree 18 of 100\n",
      "building tree 19 of 100building tree 20 of 100\n",
      "building tree 21 of 100\n",
      "building tree 22 of 100\n",
      "building tree 23 of 100\n",
      "building tree 24 of 100\n",
      "building tree 25 of 100\n",
      "building tree 26 of 100building tree 27 of 100\n",
      "building tree 28 of 100\n",
      "building tree 29 of 100\n",
      "[Parallel(n_jobs=-1)]: Done  28 tasks      | elapsed:    0.1s\n",
      "building tree 30 of 100\n",
      "building tree 31 of 100building tree 32 of 100\n",
      "building tree 33 of 100\n",
      "building tree 34 of 100\n",
      "building tree 35 of 100\n",
      "building tree 36 of 100\n",
      "building tree 37 of 100\n",
      "building tree 38 of 100\n",
      "building tree 39 of 100\n",
      "building tree 40 of 100\n",
      "building tree 41 of 100\n",
      "building tree 42 of 100\n",
      "building tree 43 of 100\n",
      "building tree 44 of 100\n",
      "building tree 45 of 100\n",
      "building tree 46 of 100\n",
      "building tree 47 of 100\n",
      "building tree 48 of 100\n",
      "building tree 49 of 100\n",
      "building tree 50 of 100\n",
      "building tree 51 of 100\n",
      "building tree 52 of 100\n",
      "building tree 53 of 100\n",
      "building tree 54 of 100\n",
      "building tree 55 of 100\n",
      "building tree 56 of 100\n",
      "building tree 57 of 100\n",
      "building tree 58 of 100\n",
      "building tree 59 of 100\n",
      "building tree 60 of 100\n",
      "building tree 61 of 100\n",
      "building tree 62 of 100\n",
      "building tree 64 of 100\n",
      "building tree 63 of 100\n",
      "building tree 65 of 100\n",
      "building tree 66 of 100\n",
      "building tree 67 of 100\n",
      "building tree 68 of 100\n",
      "building tree 70 of 100\n",
      "building tree 69 of 100\n",
      "building tree 71 of 100\n",
      "building tree 72 of 100\n",
      "building tree 73 of 100\n",
      "building tree 74 of 100\n",
      "building tree 75 of 100\n",
      "building tree 77 of 100\n",
      "building tree 76 of 100\n",
      "building tree 78 of 100\n",
      "building tree 79 of 100\n",
      "building tree 80 of 100\n",
      "building tree 81 of 100\n",
      "building tree 82 of 100\n",
      "building tree 83 of 100\n",
      "building tree 85 of 100\n",
      "building tree 84 of 100\n",
      "building tree 86 of 100\n",
      "building tree 87 of 100\n",
      "building tree 88 of 100\n",
      "building tree 89 of 100\n",
      "building tree 91 of 100\n",
      "building tree 90 of 100\n",
      "building tree 92 of 100\n",
      "building tree 93 of 100\n",
      "building tree 94 of 100\n",
      "building tree 95 of 100\n",
      "building tree 97 of 100\n",
      "building tree 96 of 100\n",
      "building tree 99 of 100\n",
      "building tree 98 of 100\n",
      "building tree 100 of 100\n",
      "[Parallel(n_jobs=-1)]: Done 100 out of 100 | elapsed:    0.4s finished\n",
      "Model training complete.\n",
      "Model persisted at /opt/ml/model/model.joblib\n",
      "[Parallel(n_jobs=2)]: Using backend ThreadingBackend with 2 concurrent workers.\n",
      "[Parallel(n_jobs=2)]: Done  28 tasks      | elapsed:    0.0s\n",
      "[Parallel(n_jobs=2)]: Done 100 out of 100 | elapsed:    0.0s finished\n",
      "Test Mean Squared Error: 0.057705882352941204\n",
      "Evaluation Metrics for Testing Data:\n",
      "------------------------------------\n",
      "Test Mean Squared Error (MSE): 0.0577\n",
      "Test Mean Absolute Error (MAE): 0.0747\n",
      "Test Root Mean Squared Error (RMSE): 0.2402\n",
      "Test R^2 Score: 0.9997\n",
      "2024-04-09 13:54:02,183 sagemaker-containers INFO     Reporting training SUCCESS\n",
      "\n",
      "2024-04-09 13:54:22 Uploading - Uploading generated training model\n",
      "2024-04-09 13:54:22 Completed - Training job completed\n",
      "Training seconds: 92\n",
      "Billable seconds: 41\n",
      "Managed Spot Training savings: 55.4%\n"
     ]
    }
   ],
   "source": [
    "# launch training job, with asynchronous call\n",
    "sklearn_estimator.fit({\"train\": trainpath, \"test\": testpath}, wait=True)\n",
    "# sklearn_estimator.fit({\"train\": datapath}, wait=True)"
   ]
  },
  {
   "cell_type": "code",
   "execution_count": null,
   "id": "7fcc0400",
   "metadata": {},
   "outputs": [],
   "source": []
  },
  {
   "cell_type": "code",
   "execution_count": 18,
   "id": "3e0e9e7f",
   "metadata": {},
   "outputs": [
    {
     "name": "stdout",
     "output_type": "stream",
     "text": [
      "\n",
      "2024-04-09 13:54:22 Starting - Preparing the instances for training\n",
      "2024-04-09 13:54:22 Downloading - Downloading the training image\n",
      "2024-04-09 13:54:22 Training - Training image download completed. Training in progress.\n",
      "2024-04-09 13:54:22 Uploading - Uploading generated training model\n",
      "2024-04-09 13:54:22 Completed - Training job completed\n",
      "Model artifact persisted at s3://sagemaker-us-east-1-975050105170/RF-custom-sklearn-2024-04-09-13-51-58-206/output/model.tar.gz\n"
     ]
    }
   ],
   "source": [
    "sklearn_estimator.latest_training_job.wait(logs=\"None\")\n",
    "artifact = sm_boto3.describe_training_job(\n",
    "    TrainingJobName=sklearn_estimator.latest_training_job.name\n",
    ")[\"ModelArtifacts\"][\"S3ModelArtifacts\"]\n",
    "\n",
    "print(\"Model artifact persisted at \" + artifact)"
   ]
  },
  {
   "cell_type": "code",
   "execution_count": 19,
   "id": "d878461c",
   "metadata": {},
   "outputs": [
    {
     "data": {
      "text/plain": [
       "'s3://sagemaker-us-east-1-975050105170/RF-custom-sklearn-2024-04-09-13-51-58-206/output/model.tar.gz'"
      ]
     },
     "execution_count": 19,
     "metadata": {},
     "output_type": "execute_result"
    }
   ],
   "source": [
    "artifact\n"
   ]
  },
  {
   "cell_type": "code",
   "execution_count": 20,
   "id": "2e750c91",
   "metadata": {},
   "outputs": [],
   "source": [
    "from sagemaker.sklearn.model import SKLearnModel\n",
    "from time import gmtime, strftime\n",
    "\n",
    "model_name = \"Custom-sklearn-model-\" + strftime(\"%Y-%m-%d-%H-%M-%S\", gmtime())\n",
    "model = SKLearnModel(\n",
    "    name =  model_name,\n",
    "    model_data=artifact,\n",
    "    role=\"arn:aws:iam::975050105170:role/service-role/AmazonSageMaker-ExecutionRole-20240130T131692\",\n",
    "    entry_point=\"script.py\",\n",
    "    framework_version=FRAMEWORK_VERSION,\n",
    ")"
   ]
  },
  {
   "cell_type": "code",
   "execution_count": 21,
   "id": "039b5094",
   "metadata": {},
   "outputs": [
    {
     "data": {
      "text/plain": [
       "'Custom-sklearn-model-2024-04-09-14-10-48'"
      ]
     },
     "execution_count": 21,
     "metadata": {},
     "output_type": "execute_result"
    }
   ],
   "source": [
    "model_name"
   ]
  },
  {
   "cell_type": "code",
   "execution_count": 22,
   "id": "67ff0bb7",
   "metadata": {},
   "outputs": [
    {
     "name": "stdout",
     "output_type": "stream",
     "text": [
      "EndpointName=Custom-sklearn-model-2024-04-09-14-10-56\n"
     ]
    },
    {
     "name": "stderr",
     "output_type": "stream",
     "text": [
      "INFO:sagemaker:Creating model with name: Custom-sklearn-model-2024-04-09-14-10-48\n",
      "INFO:sagemaker:Creating endpoint-config with name Custom-sklearn-model-2024-04-09-14-10-56\n",
      "INFO:sagemaker:Creating endpoint with name Custom-sklearn-model-2024-04-09-14-10-56\n"
     ]
    },
    {
     "name": "stdout",
     "output_type": "stream",
     "text": [
      "------!"
     ]
    }
   ],
   "source": [
    "##Endpoints deployment\n",
    "endpoint_name = \"Custom-sklearn-model-\" + strftime(\"%Y-%m-%d-%H-%M-%S\", gmtime())\n",
    "print(\"EndpointName={}\".format(endpoint_name))\n",
    "\n",
    "predictor = model.deploy(\n",
    "    initial_instance_count=1,\n",
    "    instance_type=\"ml.m4.xlarge\",\n",
    "    endpoint_name=endpoint_name,\n",
    ")"
   ]
  },
  {
   "cell_type": "code",
   "execution_count": 56,
   "id": "fb2705e2",
   "metadata": {},
   "outputs": [
    {
     "data": {
      "text/plain": [
       "'Custom-sklearn-model-2024-04-07-18-28-17'"
      ]
     },
     "execution_count": 56,
     "metadata": {},
     "output_type": "execute_result"
    }
   ],
   "source": [
    "endpoint_name"
   ]
  },
  {
   "cell_type": "code",
   "execution_count": null,
   "id": "0e468a95",
   "metadata": {},
   "outputs": [],
   "source": []
  },
  {
   "cell_type": "code",
   "execution_count": 57,
   "id": "67bfbb79",
   "metadata": {},
   "outputs": [
    {
     "data": {
      "text/plain": [
       "[[2.0,\n",
       "  220.0,\n",
       "  32.23,\n",
       "  110.0,\n",
       "  58.0,\n",
       "  1893.0,\n",
       "  1.0,\n",
       "  5950.0,\n",
       "  4.3,\n",
       "  102.0,\n",
       "  23.0,\n",
       "  8.0,\n",
       "  3.0,\n",
       "  5.0,\n",
       "  2018.0,\n",
       "  4.040816327,\n",
       "  8000.0,\n",
       "  53.41515152,\n",
       "  4.1,\n",
       "  10.75303571,\n",
       "  53.70952381,\n",
       "  4.2,\n",
       "  13.51034483,\n",
       "  53.05789474,\n",
       "  4.1,\n",
       "  12.98,\n",
       "  22.0,\n",
       "  5.0]]"
      ]
     },
     "execution_count": 57,
     "metadata": {},
     "output_type": "execute_result"
    }
   ],
   "source": [
    "testX[features][0:1].values.tolist()"
   ]
  },
  {
   "cell_type": "code",
   "execution_count": 58,
   "id": "847d255b",
   "metadata": {},
   "outputs": [
    {
     "name": "stdout",
     "output_type": "stream",
     "text": [
      "[41.34]\n"
     ]
    }
   ],
   "source": [
    "print(predictor.predict(testX[features][0:1].values.tolist()))"
   ]
  },
  {
   "cell_type": "code",
   "execution_count": 1,
   "id": "d50b5245",
   "metadata": {},
   "outputs": [
    {
     "ename": "NameError",
     "evalue": "name 'sm_boto3' is not defined",
     "output_type": "error",
     "traceback": [
      "\u001b[1;31m---------------------------------------------------------------------------\u001b[0m",
      "\u001b[1;31mNameError\u001b[0m                                 Traceback (most recent call last)",
      "Cell \u001b[1;32mIn[1], line 1\u001b[0m\n\u001b[1;32m----> 1\u001b[0m sm_boto3\u001b[38;5;241m.\u001b[39mdelete_endpoint(EndpointName\u001b[38;5;241m=\u001b[39mendpoint_name)\n",
      "\u001b[1;31mNameError\u001b[0m: name 'sm_boto3' is not defined"
     ]
    }
   ],
   "source": [
    "sm_boto3.delete_endpoint(EndpointName=endpoint_name)"
   ]
  },
  {
   "cell_type": "code",
   "execution_count": 101,
   "id": "6db83c26",
   "metadata": {},
   "outputs": [
    {
     "name": "stdout",
     "output_type": "stream",
     "text": [
      "[41.34]\n"
     ]
    }
   ],
   "source": [
    "import boto3\n",
    "import json\n",
    "\n",
    "# Initialize a boto3 client\n",
    "client = boto3.client('sagemaker-runtime', region_name='us-east-1')\n",
    "\n",
    "# Specify your endpoint name\n",
    "endpoint_name = 'Custom-sklearn-model-2024-04-02-12-10-46'\n",
    "\n",
    "# Format your data as a JSON array\n",
    "data = [\n",
    "    [2.0, 220.0, 32.23, 110.0, 58.0, 1893.0, 1.0, 5950.0, 4.3, 102.0, 23.0, 8.0, 3.0, 5.0, 2018.0, 4.040816327, 8000.0, 53.41515152, 4.1, 10.75303571, 53.70952381, 4.2, 13.51034483, 53.05789474, 4.1, 12.98, 22.0, 5.0]\n",
    "]\n",
    "payload = json.dumps(data)\n",
    "\n",
    "# Invoke the endpoint\n",
    "response = client.invoke_endpoint(\n",
    "    EndpointName=endpoint_name,\n",
    "    Body=payload,\n",
    "    ContentType='application/json'\n",
    ")\n",
    "\n",
    "# Parse the response\n",
    "result = json.loads(response['Body'].read().decode())\n",
    "print(result)\n"
   ]
  },
  {
   "cell_type": "code",
   "execution_count": 28,
   "id": "c796c9de",
   "metadata": {},
   "outputs": [
    {
     "name": "stdout",
     "output_type": "stream",
     "text": [
      "[41.34]\n"
     ]
    }
   ],
   "source": [
    "input_array = [2.0, 220.0, 32.23, 110.0, 58.0, 1893.0, 1.0, 5950.0, 4.3, 102.0, 23.0, 8.0, 3.0, 5.0, 2018.0, 4.040816327, 8000.0, 53.41515152, 4.1, 10.75303571, 53.70952381, 4.2, 13.51034483, 53.05789474, 4.1, 12.98, 22.0, 5.0]\n",
    "\n",
    "print(predictor.predict([input_array]))\n",
    "\n"
   ]
  },
  {
   "cell_type": "code",
   "execution_count": 149,
   "id": "038a11ac",
   "metadata": {},
   "outputs": [
    {
     "ename": "NameError",
     "evalue": "name 'y_pred_test' is not defined",
     "output_type": "error",
     "traceback": [
      "\u001b[1;31m---------------------------------------------------------------------------\u001b[0m",
      "\u001b[1;31mNameError\u001b[0m                                 Traceback (most recent call last)",
      "Cell \u001b[1;32mIn[149], line 13\u001b[0m\n\u001b[0;32m     10\u001b[0m     \u001b[38;5;28mprint\u001b[39m(\u001b[38;5;124m\"\u001b[39m\u001b[38;5;124m[INFO] Actual vs. Predicted plot saved as actual_vs_predicted.png\u001b[39m\u001b[38;5;124m\"\u001b[39m)\n\u001b[0;32m     12\u001b[0m \u001b[38;5;66;03m# Call this function after making predictions with your model\u001b[39;00m\n\u001b[1;32m---> 13\u001b[0m plot_actual_vs_predicted(y_test, y_pred_test)\n",
      "\u001b[1;31mNameError\u001b[0m: name 'y_pred_test' is not defined"
     ]
    }
   ],
   "source": [
    "import matplotlib.pyplot as plt\n",
    "\n",
    "def plot_feature_importances(model, features):\n",
    "    importances = model.feature_importances_\n",
    "    indices = np.argsort(importances)[::-1]\n",
    "    plt.figure(figsize=(10, 6))\n",
    "    plt.title(\"Feature Importances\")\n",
    "    plt.bar(range(len(indices)), importances[indices], color=\"r\", align=\"center\")\n",
    "    plt.xticks(range(len(indices)), [features[i] for i in indices], rotation=90)\n",
    "    plt.xlim([-1, len(indices)])\n",
    "    plt.ylabel('Importance')\n",
    "    plt.xlabel('Feature')\n",
    "    plt.tight_layout()\n",
    "    plt.savefig(\"feature_importances.png\")\n",
    "    print(\"[INFO] Feature importances plot saved as feature_importances.png\")\n",
    "\n",
    "def plot_actual_vs_predicted(y_test, y_pred):\n",
    "    plt.figure(figsize=(10, 6))\n",
    "    plt.scatter(y_test, y_pred, alpha=0.3)\n",
    "    plt.plot([y_test.min(), y_test.max()], [y_test.min(), y_test.max()], 'k--', lw=4)\n",
    "    plt.xlabel('Actual')\n",
    "    plt.ylabel('Predicted')\n",
    "    plt.title('Actual vs. Predicted Values')\n",
    "    plt.tight_layout()\n",
    "    plt.savefig(\"actual_vs_predicted.png\")\n",
    "    print(\"[INFO] Actual vs. Predicted plot saved as actual_vs_predicted.png\")\n",
    "\n",
    "# Ensure to call these functions after your model has been trained and evaluated\n",
    "# For feature importances\n",
    "plot_feature_importances(model, features)\n",
    "\n",
    "# For actual vs predicted values plot\n",
    "plot_actual_vs_predicted(y_test, y_pred_test)\n"
   ]
  }
 ],
 "metadata": {
  "kernelspec": {
   "display_name": "Python 3",
   "language": "python",
   "name": "python3"
  },
  "language_info": {
   "codemirror_mode": {
    "name": "ipython",
    "version": 3
   },
   "file_extension": ".py",
   "mimetype": "text/x-python",
   "name": "python",
   "nbconvert_exporter": "python",
   "pygments_lexer": "ipython3",
   "version": "3.11.4"
  }
 },
 "nbformat": 4,
 "nbformat_minor": 5
}
